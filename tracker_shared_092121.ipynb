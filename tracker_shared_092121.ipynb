{
 "cells": [
  {
   "cell_type": "markdown",
   "id": "2087217b",
   "metadata": {},
   "source": [
    "# Project: Bill Tracker by Person of interest"
   ]
  },
  {
   "cell_type": "markdown",
   "id": "cd3329de",
   "metadata": {},
   "source": [
    "### Purpose: Scrape, Loop, Publish\n",
    "\n",
    "In an ideal world, this program should scrape bulk data for new zip file to download every 30 days. Then it should loop through the xmls to determine if there are any women sponsors or cosponsors. If there are, then it should compare to our alum list. If yes again, then create a dataframe containing alum and bill data. Finally, this should dump the information into a spreadsheet or R Shiny app, or some other data vis for easy web viewing."
   ]
  },
  {
   "cell_type": "markdown",
   "id": "bcedd5a9",
   "metadata": {},
   "source": [
    "#### Remaining To-Do's:\n",
    "- ask govinfo for rep id numbers\n",
    "- create an object of Emerge Alumnae\n",
    "- compare co-sponsor \"results\" to \"alums\" to return True matches only\n",
    "- figure out why \"find_all\" is not finding all values for tags; **specifically cosponsors!**\n",
    "- automate download of zipped file of xmls directly from the govinfo website every 30 days\n",
    "- recreate this for the House bills and joint resolution **cries single tear**"
   ]
  },
  {
   "cell_type": "markdown",
   "id": "9528408b",
   "metadata": {},
   "source": [
    "#### Note:\n",
    "    \n",
    "- I am not parsing the xml directly from govinfo because I couldn't figure it out. I opted to download one big zip file of xml files for all bills\n",
    "- I may have to scrape a different set of xml files to track bill statuses. **cries blood**"
   ]
  },
  {
   "cell_type": "code",
   "execution_count": null,
   "id": "bd81eb5b",
   "metadata": {},
   "outputs": [],
   "source": [
    "from bs4 import BeautifulSoup as bs\n",
    "import glob\n",
    "import os\n",
    "from pathlib import Path\n",
    "import pandas as pd\n",
    "import re\n",
    "import numpy as np"
   ]
  },
  {
   "cell_type": "markdown",
   "id": "6a5f3bea",
   "metadata": {},
   "source": [
    "<div class=\"alert alert-block alert-danger\">\n",
    "<b>Do not change 'Making the soup'</b>\n",
    "    <br>It broke once already and we don't know how we fixed it.\n",
    "</div>"
   ]
  },
  {
   "cell_type": "code",
   "execution_count": null,
   "id": "22856fb7",
   "metadata": {},
   "outputs": [],
   "source": [
    "bills = soup.find_all('body')\n",
    "for bill in bills:\n",
    "    sl = soup.find('legis-num')\n",
    "    ss = soup.find('sponsor')\n",
    "    rows = []\n",
    "    for i in range(0,len(sl)):\n",
    "        l[i]\n",
    "        s[i]\n",
    "        in_data = [sl,ss]\n",
    "        if i == 0:\n",
    "            rows = np.append(rows,in_data)\n",
    "            if i == 3:\n",
    "                break\n",
    "            print(rows)\n",
    "#     summary = article.find('div', class_='entry-content').p.text\n",
    "#     print(summary)"
   ]
  },
  {
   "cell_type": "code",
   "execution_count": null,
   "id": "51616628",
   "metadata": {
    "scrolled": true
   },
   "outputs": [],
   "source": [
    "# Making the soup\n",
    "\n",
    "os.chdir(\"/Users/jessicayanez/Desktop/senate\")\n",
    "\n",
    "# folder = \n",
    "Path(\"/Users/jessicayanez/Desktop/senate/\")\n",
    "\n",
    "for files in Path('.').glob('*.xml'):\n",
    "    with files.open() as f:\n",
    "        data = []\n",
    "        bills = bs(f,'lxml')\n",
    "        for b in bills:\n",
    "            data.append(bills)\n",
    "            print(data)"
   ]
  },
  {
   "cell_type": "markdown",
   "id": "60b42227",
   "metadata": {},
   "source": [
    "<div class=\"alert alert-block alert-warning\">\n",
    "<b>Checking if bill was sponsored by a lady</b>\n",
    "    <br>Ideally, this would be a condition for the script to continue? Does that make sense?\n",
    "</div>"
   ]
  },
  {
   "cell_type": "code",
   "execution_count": null,
   "id": "a46463c2",
   "metadata": {},
   "outputs": [],
   "source": [
    "pattern = re.compile(r'Ms.+|Mrs.+')\n",
    "matches = pattern.finditer(sponsor_name)\n",
    "for match in matches:\n",
    "    print()\n",
    "    print(\"Bill Sponsor: \")\n",
    "    print(match.group(0))\n",
    "else:\n",
    "    print()\n",
    "    print(\"Man sponsored bill; check cosponsor names.\")"
   ]
  },
  {
   "cell_type": "markdown",
   "id": "c4688af3",
   "metadata": {},
   "source": [
    "<div class=\"alert alert-block alert-warning\">\n",
    "    <b>Checking if bill was cosponsored by a lady.</b>\n",
    "    <br>If after these two steps we find a lady sponsor then we would crosss reference our Alumnae list.\n",
    "    <div/>"
   ]
  },
  {
   "cell_type": "code",
   "execution_count": null,
   "id": "ff99d5d6",
   "metadata": {},
   "outputs": [],
   "source": [
    "prefix = [r'Ms.+|Mrs.+']\n",
    "\n",
    "pp = set(prefix)\n",
    "\n",
    "if pp not in sponsors:\n",
    "    print()\n",
    "    print(\"Check if the following lady cosponsors are emerge alumnae:\")\n",
    "    print()\n",
    "else:\n",
    "    print(\"Only man sponsored bill.\")\n",
    "    print()\n",
    "\n",
    "pattern = re.compile(r'Ms.+|Mrs.+')\n",
    "matches = pattern.finditer(cosponsor_names)\n",
    "for result in matches:\n",
    "    print(result.group(0))"
   ]
  },
  {
   "cell_type": "markdown",
   "id": "47357184",
   "metadata": {},
   "source": [
    "### Looking for other table variables in our BeautifulSoup"
   ]
  },
  {
   "cell_type": "markdown",
   "id": "8edab61a",
   "metadata": {},
   "source": [
    "##### Note: Element Descriptions and Content Models for Bills, Resolutions, and Amendments can be found [HERE](https://xml.house.gov/)"
   ]
  },
  {
   "cell_type": "code",
   "execution_count": null,
   "id": "ed9c09c3",
   "metadata": {},
   "outputs": [],
   "source": [
    "sponsors = [x.get_text() for x in soup.find_all(r'sponsor')]\n",
    "sponsor_name = \"\\n\".join(sponsors) #call this one, bc idk if a bill can have ore than one sponsor\n",
    "cosponsors = [x.get_text() for x in soup.find_all(r'cosponsor')]\n",
    "cosponsor_names = ', '.join(cosponsors) #call this one bc we know bills CAN have more than one cosponsor\n",
    "leg_num = [x.get_text() for x in soup.find_all(re.compile(r'legis-num'))]\n",
    "title = [x.get_text() for x in soup.find_all(re.compile(r'\\bdc:title\\b'))]\n",
    "official = [x.get_text() for x in soup.find_all(re.compile(r'\\bofficial-title\\b'))]\n",
    "date_created = [x.get_text() for x in soup.find_all(re.compile(r'\\bdc:date\\b'))]\n",
    "published_by = [x.get_text() for x in soup.find_all(re.compile(r'\\bdc:publisher\\b'))]"
   ]
  },
  {
   "cell_type": "code",
   "execution_count": null,
   "id": "be967596",
   "metadata": {},
   "outputs": [],
   "source": [
    "df2 = pd.DataFrame()\n",
    "df2['Sponsor Name'] = sponsors\n",
    "df2['Cosponsor Names'] = cosponsor_names\n",
    "# df['leg_num'] = status\n",
    "# df['title'] = urls\n",
    "# df['Subject Area'] = classify(titles)\n",
    "\n",
    "print(df2)"
   ]
  },
  {
   "cell_type": "markdown",
   "id": "2daffdc2",
   "metadata": {},
   "source": [
    "### First Attempt at building the bill table"
   ]
  },
  {
   "cell_type": "markdown",
   "id": "2843fbb3",
   "metadata": {},
   "source": [
    "<div class=\"alert alert-block alert-warning\">\n",
    "<b>Pros: All bill cosponsors show up<b/>\n",
    "<br>\n",
    "Cons: Row one repeats for length of index; Data for other bills does not appear.\n",
    "    <div/>"
   ]
  },
  {
   "cell_type": "code",
   "execution_count": null,
   "id": "136c5914",
   "metadata": {},
   "outputs": [],
   "source": [
    "cols = ('ID','Bill Sponsor','Bill Cosponsors','Title','Official Description','Date Created','Publisher')\n",
    "\n",
    "data = {'ID':[leg_num],'Bill Sponsor':[sponsor_name],'Bill Cosponsors':[cosponsor_names],'Title':[title],\n",
    "        'Official Description':[official],'Date Created':[date_created],'Publisher':[published_by]}\n",
    "\n",
    "bill_df = pd.DataFrame(data, columns=cols, index=None)\n",
    "bill_df"
   ]
  },
  {
   "cell_type": "markdown",
   "id": "0176ce53",
   "metadata": {},
   "source": [
    "## Simplified Version"
   ]
  },
  {
   "cell_type": "markdown",
   "id": "7f115068",
   "metadata": {},
   "source": [
    "<div class=\"alert alert-block alert-warning\">\n",
    "<b>Pros: Concise script<b/>\n",
    "<br>\n",
    "Cons: Only first cosponsor name appears; Only first Bill information appears\n",
    "    <div/>"
   ]
  },
  {
   "cell_type": "code",
   "execution_count": null,
   "id": "cdb36f09",
   "metadata": {},
   "outputs": [],
   "source": [
    "l = soup.find_all('legis-num')\n",
    "s = soup.find_all('sponsor')\n",
    "c = soup.find_all('cosponsor')\n",
    "t = soup.find_all('dc:title')\n",
    "o = soup.find_all('official-title')\n",
    "d = soup.find_all('dc:date')\n",
    "p = soup.find_all('dc:publisher')"
   ]
  },
  {
   "cell_type": "code",
   "execution_count": null,
   "id": "8b3c540e",
   "metadata": {},
   "outputs": [],
   "source": [
    "bill_data = []\n",
    "for i in range(0,len(l)):\n",
    "    rows = [l[i].get_text(),\n",
    "            s[i].get_text(),\n",
    "            c[i],\n",
    "            t[i].get_text(),\n",
    "            o[i].get_text(),\n",
    "            d[i].get_text(),\n",
    "            p[i].get_text()]\n",
    "    bill_data.append(rows)"
   ]
  },
  {
   "cell_type": "code",
   "execution_count": null,
   "id": "f00a12d3",
   "metadata": {
    "scrolled": true
   },
   "outputs": [],
   "source": [
    "cols =['Leg Num','Bill Sponsor','Bill Cosponsors','Title','Official Description','Date Created','Publisher']\n",
    "bill_df_2 = pd.DataFrame(bill_data, columns=cols, dtype = str)\n",
    "bill_df_2"
   ]
  },
  {
   "cell_type": "code",
   "execution_count": null,
   "id": "625c71d8",
   "metadata": {},
   "outputs": [],
   "source": []
  }
 ],
 "metadata": {
  "kernelspec": {
   "display_name": "Python 3 (ipykernel)",
   "language": "python",
   "name": "python3"
  },
  "language_info": {
   "codemirror_mode": {
    "name": "ipython",
    "version": 3
   },
   "file_extension": ".py",
   "mimetype": "text/x-python",
   "name": "python",
   "nbconvert_exporter": "python",
   "pygments_lexer": "ipython3",
   "version": "3.8.8"
  }
 },
 "nbformat": 4,
 "nbformat_minor": 5
}
