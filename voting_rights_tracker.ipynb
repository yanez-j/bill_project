{
 "cells": [
  {
   "cell_type": "markdown",
   "id": "2087217b",
   "metadata": {},
   "source": [
    "# Project: Track bills related to voting rights"
   ]
  },
  {
   "cell_type": "markdown",
   "id": "cd3329de",
   "metadata": {},
   "source": [
    "### Purpose: Scrape, Loop, Publish\n",
    "\n",
    "In an ideal world, this program should scrape bulk data for new zip file to download every 30 days. Then it should loop through the xmls to determine if there are any bills related to voting rights. If there are, then it should create a dataframe containing relevant bill data. Finally, this should dump the information into a spreadsheet or R Shiny app, or some other data vis for easy web viewing."
   ]
  },
  {
   "cell_type": "markdown",
   "id": "bcedd5a9",
   "metadata": {},
   "source": [
    "#### Remaining To-Do's:\n",
    "- figure out why \"find_all\" is not finding all values for tags\n",
    "- automate download of zipped file of xmls directly from the govinfo website every 30 days\n",
    "- recreate this for the House bills and joint resolution **cries single tear**"
   ]
  },
  {
   "cell_type": "markdown",
   "id": "9528408b",
   "metadata": {},
   "source": [
    "#### Note:\n",
    "    \n",
    "- I am not parsing the xml directly from govinfo because I couldn't figure it out. I opted to download one big zip file of xml files for all bills\n",
    "- I may have to scrape a different set of xml files to track bill statuses. **cries blood**"
   ]
  },
  {
   "cell_type": "code",
   "execution_count": 2,
   "id": "bd81eb5b",
   "metadata": {},
   "outputs": [],
   "source": [
    "from bs4 import BeautifulSoup as bs\n",
    "import glob\n",
    "import os\n",
    "from pathlib import Path\n",
    "import pandas as pd\n",
    "import re\n",
    "import numpy as np"
   ]
  },
  {
   "cell_type": "markdown",
   "id": "6a5f3bea",
   "metadata": {},
   "source": [
    "<div class=\"alert alert-block alert-danger\">\n",
    "<b>Do not change 'Making the soup'</b>\n",
    "    <br>It broke once already and we don't know how we fixed it.\n",
    "</div>"
   ]
  },
  {
   "cell_type": "code",
   "execution_count": 3,
   "id": "51616628",
   "metadata": {
    "scrolled": true
   },
   "outputs": [],
   "source": [
    "# Making the soup\n",
    "\n",
    "os.chdir(\"/Users/jessicayanez/Desktop/senate\")\n",
    "\n",
    "folder = Path(\"/Users/jessicayanez/Desktop/senate/\")\n",
    "\n",
    "for p in Path('.').glob('*.xml'):\n",
    "    with p.open() as f:\n",
    "        soup = bs(f,'lxml')\n",
    "#         print(soup)"
   ]
  },
  {
   "cell_type": "code",
   "execution_count": 4,
   "id": "a46463c2",
   "metadata": {},
   "outputs": [
    {
     "data": {
      "text/plain": [
       "['Mr. Markey']"
      ]
     },
     "execution_count": 4,
     "metadata": {},
     "output_type": "execute_result"
    }
   ],
   "source": [
    "sponsors = [x.get_text() for x in soup.find_all(r'sponsor')]\n",
    "s = \"\\n\"\n",
    "sponsor_name = s.join(sponsors)\n",
    "sponsors"
   ]
  },
  {
   "cell_type": "code",
   "execution_count": 5,
   "id": "ff99d5d6",
   "metadata": {},
   "outputs": [
    {
     "data": {
      "text/plain": [
       "['Mr. Sasse', 'Mr. Blunt', 'Mr. Schatz', 'Ms. Collins', 'Mr. Bennet']"
      ]
     },
     "execution_count": 5,
     "metadata": {},
     "output_type": "execute_result"
    }
   ],
   "source": [
    "cosponsors = [x.get_text() for x in soup.find_all(r'cosponsor')]\n",
    "s = \"\\n\"\n",
    "cosponsor_names = s.join(cosponsors)\n",
    "cosponsors"
   ]
  },
  {
   "cell_type": "markdown",
   "id": "47357184",
   "metadata": {},
   "source": [
    "### Looking for other table variables in our BeautifulSoup"
   ]
  },
  {
   "cell_type": "markdown",
   "id": "8edab61a",
   "metadata": {},
   "source": [
    "##### Note: Element Descriptions and Content Models for Bills, Resolutions, and Amendments can be found [HERE](https://xml.house.gov/)"
   ]
  },
  {
   "cell_type": "code",
   "execution_count": 6,
   "id": "0668d94a",
   "metadata": {},
   "outputs": [
    {
     "data": {
      "text/plain": [
       "['117 S971 IS: Children and Media Research Advancement Act ']"
      ]
     },
     "execution_count": 6,
     "metadata": {},
     "output_type": "execute_result"
    }
   ],
   "source": [
    "title = [x.get_text() for x in soup.find_all(re.compile(r'\\bdc:title\\b'))]\n",
    "title"
   ]
  },
  {
   "cell_type": "code",
   "execution_count": 7,
   "id": "ff981a0a",
   "metadata": {
    "scrolled": true
   },
   "outputs": [
    {
     "data": {
      "text/plain": [
       "['To amend the Public Health Service Act to authorize a program on children and the media within the National Institute of Health to study the health and developmental effects of technology on infants, children, and adolescents. ']"
      ]
     },
     "execution_count": 7,
     "metadata": {},
     "output_type": "execute_result"
    }
   ],
   "source": [
    "official = [x.get_text() for x in soup.find_all(re.compile(r'\\bofficial-title\\b'))]\n",
    "official"
   ]
  },
  {
   "cell_type": "code",
   "execution_count": 8,
   "id": "0e5643f2",
   "metadata": {},
   "outputs": [
    {
     "data": {
      "text/plain": [
       "['2021-03-25']"
      ]
     },
     "execution_count": 8,
     "metadata": {},
     "output_type": "execute_result"
    }
   ],
   "source": [
    "date_created = [x.get_text() for x in soup.find_all(re.compile(r'\\bdc:date\\b'))]\n",
    "date_created"
   ]
  },
  {
   "cell_type": "code",
   "execution_count": 9,
   "id": "62e1afaa",
   "metadata": {
    "scrolled": true
   },
   "outputs": [
    {
     "data": {
      "text/plain": [
       "['U.S. Senate']"
      ]
     },
     "execution_count": 9,
     "metadata": {},
     "output_type": "execute_result"
    }
   ],
   "source": [
    "published_by = [x.get_text() for x in soup.find_all(re.compile(r'\\bdc:publisher\\b'))]\n",
    "published_by"
   ]
  },
  {
   "cell_type": "markdown",
   "id": "2daffdc2",
   "metadata": {},
   "source": [
    "### First Attempt at building the bill table"
   ]
  },
  {
   "cell_type": "markdown",
   "id": "2843fbb3",
   "metadata": {},
   "source": [
    "<div class=\"alert alert-block alert-warning\">\n",
    "<b>Pros: All bill cosponsors show up<b/>\n",
    "<br>\n",
    "Cons: Row one repeats for length of index; Data for other bills does not appear.\n",
    "    <div/>"
   ]
  },
  {
   "cell_type": "code",
   "execution_count": 10,
   "id": "136c5914",
   "metadata": {},
   "outputs": [
    {
     "data": {
      "text/html": [
       "<div>\n",
       "<style scoped>\n",
       "    .dataframe tbody tr th:only-of-type {\n",
       "        vertical-align: middle;\n",
       "    }\n",
       "\n",
       "    .dataframe tbody tr th {\n",
       "        vertical-align: top;\n",
       "    }\n",
       "\n",
       "    .dataframe thead th {\n",
       "        text-align: right;\n",
       "    }\n",
       "</style>\n",
       "<table border=\"1\" class=\"dataframe\">\n",
       "  <thead>\n",
       "    <tr style=\"text-align: right;\">\n",
       "      <th></th>\n",
       "      <th>Bill Sponsor</th>\n",
       "      <th>Bill Cosponsors</th>\n",
       "      <th>Title</th>\n",
       "      <th>Official Description</th>\n",
       "      <th>Date Created</th>\n",
       "      <th>Publisher</th>\n",
       "    </tr>\n",
       "  </thead>\n",
       "  <tbody>\n",
       "    <tr>\n",
       "      <th>1</th>\n",
       "      <td>Mr. Markey</td>\n",
       "      <td>Mr. Sasse\\nMr. Blunt\\nMr. Schatz\\nMs. Collins\\...</td>\n",
       "      <td>[117 S971 IS: Children and Media Research Adva...</td>\n",
       "      <td>[To amend the Public Health Service Act to aut...</td>\n",
       "      <td>[2021-03-25]</td>\n",
       "      <td>[U.S. Senate]</td>\n",
       "    </tr>\n",
       "    <tr>\n",
       "      <th>2</th>\n",
       "      <td>Mr. Markey</td>\n",
       "      <td>Mr. Sasse\\nMr. Blunt\\nMr. Schatz\\nMs. Collins\\...</td>\n",
       "      <td>[117 S971 IS: Children and Media Research Adva...</td>\n",
       "      <td>[To amend the Public Health Service Act to aut...</td>\n",
       "      <td>[2021-03-25]</td>\n",
       "      <td>[U.S. Senate]</td>\n",
       "    </tr>\n",
       "    <tr>\n",
       "      <th>3</th>\n",
       "      <td>Mr. Markey</td>\n",
       "      <td>Mr. Sasse\\nMr. Blunt\\nMr. Schatz\\nMs. Collins\\...</td>\n",
       "      <td>[117 S971 IS: Children and Media Research Adva...</td>\n",
       "      <td>[To amend the Public Health Service Act to aut...</td>\n",
       "      <td>[2021-03-25]</td>\n",
       "      <td>[U.S. Senate]</td>\n",
       "    </tr>\n",
       "  </tbody>\n",
       "</table>\n",
       "</div>"
      ],
      "text/plain": [
       "  Bill Sponsor                                    Bill Cosponsors  \\\n",
       "1   Mr. Markey  Mr. Sasse\\nMr. Blunt\\nMr. Schatz\\nMs. Collins\\...   \n",
       "2   Mr. Markey  Mr. Sasse\\nMr. Blunt\\nMr. Schatz\\nMs. Collins\\...   \n",
       "3   Mr. Markey  Mr. Sasse\\nMr. Blunt\\nMr. Schatz\\nMs. Collins\\...   \n",
       "\n",
       "                                               Title  \\\n",
       "1  [117 S971 IS: Children and Media Research Adva...   \n",
       "2  [117 S971 IS: Children and Media Research Adva...   \n",
       "3  [117 S971 IS: Children and Media Research Adva...   \n",
       "\n",
       "                                Official Description  Date Created  \\\n",
       "1  [To amend the Public Health Service Act to aut...  [2021-03-25]   \n",
       "2  [To amend the Public Health Service Act to aut...  [2021-03-25]   \n",
       "3  [To amend the Public Health Service Act to aut...  [2021-03-25]   \n",
       "\n",
       "       Publisher  \n",
       "1  [U.S. Senate]  \n",
       "2  [U.S. Senate]  \n",
       "3  [U.S. Senate]  "
      ]
     },
     "execution_count": 10,
     "metadata": {},
     "output_type": "execute_result"
    }
   ],
   "source": [
    "index_values = (1,2,3)\n",
    "\n",
    "cols = ('Bill Sponsor',\n",
    "        'Bill Cosponsors',\n",
    "        'Title',\n",
    "        'Official Description',\n",
    "        'Date Created',\n",
    "        'Publisher')\n",
    "\n",
    "data = {'Bill Sponsor':[sponsor_name],\n",
    "       'Bill Cosponsors':[cosponsor_names],\n",
    "       'Title':[title],\n",
    "       'Official Description':[official],\n",
    "       'Date Created':[date_created],\n",
    "       'Publisher':[published_by]}\n",
    "\n",
    "bill_df = pd.DataFrame(data, columns=cols, index=index_values)\n",
    "bill_df"
   ]
  },
  {
   "cell_type": "markdown",
   "id": "0176ce53",
   "metadata": {},
   "source": [
    "## Simplified Version"
   ]
  },
  {
   "cell_type": "markdown",
   "id": "7f115068",
   "metadata": {},
   "source": [
    "<div class=\"alert alert-block alert-warning\">\n",
    "<b>Pros: Concise script<b/>\n",
    "<br>\n",
    "Cons: Only first cosponsor name appears; Only first Bill information appears\n",
    "    <div/>"
   ]
  },
  {
   "cell_type": "code",
   "execution_count": 11,
   "id": "cdb36f09",
   "metadata": {},
   "outputs": [],
   "source": [
    "s = soup.find_all('sponsor')\n",
    "c = soup.find_all('cosponsor')\n",
    "t = soup.find_all('dc:title')\n",
    "o = soup.find_all('official-title')\n",
    "d = soup.find_all('dc:date')\n",
    "p = soup.find_all('dc:publisher')"
   ]
  },
  {
   "cell_type": "code",
   "execution_count": 12,
   "id": "8b3c540e",
   "metadata": {},
   "outputs": [
    {
     "name": "stdout",
     "output_type": "stream",
     "text": [
      "[['Mr. Markey', 'Mr. Sasse', '117 S971 IS: Children and Media Research Advancement Act ', 'To amend the Public Health Service Act to authorize a program on children and the media within the National Institute of Health to study the health and developmental effects of technology on infants, children, and adolescents. ', '2021-03-25', 'U.S. Senate']]\n"
     ]
    }
   ],
   "source": [
    "bill_data = []\n",
    "for i in range(0,len(s)):\n",
    "    rows = [s[i].get_text(),\n",
    "            c[i].get_text(),\n",
    "            t[i].get_text(),\n",
    "            o[i].get_text(),\n",
    "            d[i].get_text(),\n",
    "            p[i].get_text()]\n",
    "    bill_data.append(rows)\n",
    "print(bill_data)"
   ]
  },
  {
   "cell_type": "code",
   "execution_count": 13,
   "id": "f00a12d3",
   "metadata": {
    "scrolled": true
   },
   "outputs": [
    {
     "data": {
      "text/html": [
       "<div>\n",
       "<style scoped>\n",
       "    .dataframe tbody tr th:only-of-type {\n",
       "        vertical-align: middle;\n",
       "    }\n",
       "\n",
       "    .dataframe tbody tr th {\n",
       "        vertical-align: top;\n",
       "    }\n",
       "\n",
       "    .dataframe thead th {\n",
       "        text-align: right;\n",
       "    }\n",
       "</style>\n",
       "<table border=\"1\" class=\"dataframe\">\n",
       "  <thead>\n",
       "    <tr style=\"text-align: right;\">\n",
       "      <th></th>\n",
       "      <th>Bill Sponsor</th>\n",
       "      <th>Bill Cosponsors</th>\n",
       "      <th>Title</th>\n",
       "      <th>Official Description</th>\n",
       "      <th>Date Created</th>\n",
       "      <th>Publisher</th>\n",
       "    </tr>\n",
       "  </thead>\n",
       "  <tbody>\n",
       "    <tr>\n",
       "      <th>0</th>\n",
       "      <td>Mr. Markey</td>\n",
       "      <td>Mr. Sasse</td>\n",
       "      <td>117 S971 IS: Children and Media Research Advan...</td>\n",
       "      <td>To amend the Public Health Service Act to auth...</td>\n",
       "      <td>2021-03-25</td>\n",
       "      <td>U.S. Senate</td>\n",
       "    </tr>\n",
       "  </tbody>\n",
       "</table>\n",
       "</div>"
      ],
      "text/plain": [
       "  Bill Sponsor Bill Cosponsors  \\\n",
       "0   Mr. Markey       Mr. Sasse   \n",
       "\n",
       "                                               Title  \\\n",
       "0  117 S971 IS: Children and Media Research Advan...   \n",
       "\n",
       "                                Official Description Date Created    Publisher  \n",
       "0  To amend the Public Health Service Act to auth...   2021-03-25  U.S. Senate  "
      ]
     },
     "execution_count": 13,
     "metadata": {},
     "output_type": "execute_result"
    }
   ],
   "source": [
    "bill_df_2 = pd.DataFrame(bill_data, columns=['Bill Sponsor',\n",
    "                                      'Bill Cosponsors',\n",
    "                                      'Title',\n",
    "                                      'Official Description',\n",
    "                                      'Date Created',\n",
    "                                      'Publisher'],dtype = str)\n",
    "bill_df_2"
   ]
  }
 ],
 "metadata": {
  "kernelspec": {
   "display_name": "Python 3 (ipykernel)",
   "language": "python",
   "name": "python3"
  },
  "language_info": {
   "codemirror_mode": {
    "name": "ipython",
    "version": 3
   },
   "file_extension": ".py",
   "mimetype": "text/x-python",
   "name": "python",
   "nbconvert_exporter": "python",
   "pygments_lexer": "ipython3",
   "version": "3.8.8"
  }
 },
 "nbformat": 4,
 "nbformat_minor": 5
}
